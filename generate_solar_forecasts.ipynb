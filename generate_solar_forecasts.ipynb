{
 "cells": [
  {
   "cell_type": "code",
   "execution_count": null,
   "metadata": {},
   "outputs": [],
   "source": [
    "import pandas as pd\n",
    "import numpy as np\n",
    "\n",
    "from fforma import FFORMA\n",
    "from fforma.r_models import (\n",
    "    ARIMA,\n",
    "    ETS,\n",
    "    ThetaF,\n",
    "    Naive,\n",
    "    SeasonalNaive\n",
    ")\n",
    "from fforma.meta_model import (\n",
    "    MetaModels,\n",
    "    temp_holdout,\n",
    "    calc_errors,\n",
    "    get_prediction_panel\n",
    ")\n",
    "from ESRNN.utils_evaluation import Naive2\n",
    "from ESRNN.m4_data import prepare_m4_data, seas_dict\n",
    "from tsfeatures import tsfeatures\n"
   ]
  },
  {
   "cell_type": "code",
   "execution_count": null,
   "metadata": {},
   "outputs": [],
   "source": [
    "# Pretrain FFORMA\n",
    "\n",
    "complete_errors, complete_features, complete_predictions = [], [], []\n",
    "\n",
    "for dataset in ['Weekly']: #'Daily', etc\n",
    "    validation_periods = seas_dict[dataset]['output_size']\n",
    "    seasonality = seas_dict[dataset]['seasonality']\n",
    "    errors, features, predictions = prepare_to_train_fforma(dataset, validation_periods, seasonality)\n",
    "\n",
    "    complete_errors.append(errors)\n",
    "    complete_features.append(features)\n",
    "    complete_predictions.append(predictions)\n",
    "\n",
    "complete_errors = pd.concat(complete_errors)\n",
    "complete_features = pd.concat(complete_features)\n",
    "complete_predictions = pd.concat(complete_predictions)\n",
    "\n",
    "#Training fforma\n",
    "\n",
    "# optimal params by hyndman\n",
    "optimal_params = {'n_estimators': 94,\n",
    "                    'eta': 0.58,\n",
    "                    'max_depth': 14,\n",
    "                    'subsample': 0.92,\n",
    "                    'colsample_bytree': 0.77}\n",
    "fforma = FFORMA(params=optimal_params)\n",
    "fforma.fit(errors=complete_errors,\n",
    "            holdout_feats=complete_features,\n",
    "            feats=complete_features)\n",
    "\n",
    "fforma_predictions = fforma.predict(complete_predictions)\n"
   ]
  }
 ],
 "metadata": {
  "kernelspec": {
   "display_name": "deforma",
   "language": "python",
   "name": "python3"
  },
  "language_info": {
   "name": "python",
   "version": "3.8.0"
  }
 },
 "nbformat": 4,
 "nbformat_minor": 2
}
